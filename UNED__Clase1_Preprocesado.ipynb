{
  "nbformat": 4,
  "nbformat_minor": 0,
  "metadata": {
    "kernelspec": {
      "display_name": "Python 3",
      "language": "python",
      "name": "python3"
    },
    "language_info": {
      "codemirror_mode": {
        "name": "ipython",
        "version": 3
      },
      "file_extension": ".py",
      "mimetype": "text/x-python",
      "name": "python",
      "nbconvert_exporter": "python",
      "pygments_lexer": "ipython3",
      "version": "3.6.7"
    },
    "colab": {
      "name": "UNED__Clase1_Preprocesado.ipynb",
      "provenance": [],
      "collapsed_sections": [
        "lSk8NQOVl0Vy"
      ],
      "include_colab_link": true
    }
  },
  "cells": [
    {
      "cell_type": "markdown",
      "metadata": {
        "id": "view-in-github",
        "colab_type": "text"
      },
      "source": [
        "<a href=\"https://colab.research.google.com/github/jesalazar45/Ciencias-de-Datos/blob/main/UNED__Clase1_Preprocesado.ipynb\" target=\"_parent\"><img src=\"https://colab.research.google.com/assets/colab-badge.svg\" alt=\"Open In Colab\"/></a>"
      ]
    },
    {
      "cell_type": "markdown",
      "metadata": {
        "id": "GQooAwtWpGls"
      },
      "source": [
        "# **UNIVERSIDAD ESTATAL A DISTANCIA**\n",
        "TALLER INTRODUCCION A CIENCIA DE DATOS\n",
        "\n",
        "**SESION #1**"
      ]
    },
    {
      "cell_type": "markdown",
      "metadata": {
        "id": "iqmnFrK_l0Vx"
      },
      "source": [
        "# Preprocesamiento de datos - Caso TITANIC"
      ]
    },
    {
      "cell_type": "code",
      "metadata": {
        "id": "RS1F36ZWUnC_"
      },
      "source": [
        ""
      ],
      "execution_count": null,
      "outputs": []
    },
    {
      "cell_type": "code",
      "metadata": {
        "id": "-xtC5ezTl0Vx"
      },
      "source": [
        "import numpy as np\n",
        "import pandas as pd"
      ],
      "execution_count": null,
      "outputs": []
    },
    {
      "cell_type": "code",
      "metadata": {
        "id": "Aebi-U80l0Vx"
      },
      "source": [
        " data =  pd.read_csv('https://raw.githubusercontent.com/jesalazar45/Ciencias-de-Datos/main/database.csv')\n",
        " "
      ],
      "execution_count": null,
      "outputs": []
    },
    {
      "cell_type": "code",
      "metadata": {
        "colab": {
          "base_uri": "https://localhost:8080/"
        },
        "id": "2K2OtRq3l0Vx",
        "outputId": "73b3eb33-6019-4757-df36-95ec61962971"
      },
      "source": [
        "data.shape"
      ],
      "execution_count": null,
      "outputs": [
        {
          "output_type": "execute_result",
          "data": {
            "text/plain": [
              "(1508, 12)"
            ]
          },
          "metadata": {
            "tags": []
          },
          "execution_count": 125
        }
      ]
    },
    {
      "cell_type": "code",
      "metadata": {
        "id": "w7zLle2LUToT"
      },
      "source": [
        ""
      ],
      "execution_count": null,
      "outputs": []
    },
    {
      "cell_type": "code",
      "metadata": {
        "colab": {
          "base_uri": "https://localhost:8080/",
          "height": 665
        },
        "id": "Vbj3czSPl0Vx",
        "outputId": "f5a3b109-650c-4406-e062-1abcef24e90a"
      },
      "source": [
        "data.head(10)"
      ],
      "execution_count": null,
      "outputs": [
        {
          "output_type": "execute_result",
          "data": {
            "text/html": [
              "<div>\n",
              "<style scoped>\n",
              "    .dataframe tbody tr th:only-of-type {\n",
              "        vertical-align: middle;\n",
              "    }\n",
              "\n",
              "    .dataframe tbody tr th {\n",
              "        vertical-align: top;\n",
              "    }\n",
              "\n",
              "    .dataframe thead th {\n",
              "        text-align: right;\n",
              "    }\n",
              "</style>\n",
              "<table border=\"1\" class=\"dataframe\">\n",
              "  <thead>\n",
              "    <tr style=\"text-align: right;\">\n",
              "      <th></th>\n",
              "      <th>Number</th>\n",
              "      <th>Name</th>\n",
              "      <th>Country</th>\n",
              "      <th>Region</th>\n",
              "      <th>Type</th>\n",
              "      <th>Activity Evidence</th>\n",
              "      <th>Last Known Eruption</th>\n",
              "      <th>Latitude</th>\n",
              "      <th>Longitude</th>\n",
              "      <th>Elevation (Meters)</th>\n",
              "      <th>Dominant Rock Type</th>\n",
              "      <th>Tectonic Setting</th>\n",
              "    </tr>\n",
              "  </thead>\n",
              "  <tbody>\n",
              "    <tr>\n",
              "      <th>0</th>\n",
              "      <td>210010</td>\n",
              "      <td>West Eifel Volcanic Field</td>\n",
              "      <td>Germany</td>\n",
              "      <td>Mediterranean and Western Asia</td>\n",
              "      <td>Maar(s)</td>\n",
              "      <td>Eruption Dated</td>\n",
              "      <td>8300 BCE</td>\n",
              "      <td>50.170</td>\n",
              "      <td>6.850</td>\n",
              "      <td>600</td>\n",
              "      <td>Foidite</td>\n",
              "      <td>Rift Zone / Continental Crust (&gt;25 km)</td>\n",
              "    </tr>\n",
              "    <tr>\n",
              "      <th>1</th>\n",
              "      <td>210020</td>\n",
              "      <td>Chaine des Puys</td>\n",
              "      <td>France</td>\n",
              "      <td>Mediterranean and Western Asia</td>\n",
              "      <td>Lava dome(s)</td>\n",
              "      <td>Eruption Dated</td>\n",
              "      <td>4040 BCE</td>\n",
              "      <td>45.775</td>\n",
              "      <td>2.970</td>\n",
              "      <td>1464</td>\n",
              "      <td>Basalt / Picro-Basalt</td>\n",
              "      <td>Rift Zone / Continental Crust (&gt;25 km)</td>\n",
              "    </tr>\n",
              "    <tr>\n",
              "      <th>2</th>\n",
              "      <td>210030</td>\n",
              "      <td>Olot Volcanic Field</td>\n",
              "      <td>Spain</td>\n",
              "      <td>Mediterranean and Western Asia</td>\n",
              "      <td>Pyroclastic cone(s)</td>\n",
              "      <td>Evidence Credible</td>\n",
              "      <td>Unknown</td>\n",
              "      <td>42.170</td>\n",
              "      <td>2.530</td>\n",
              "      <td>893</td>\n",
              "      <td>Trachybasalt / Tephrite Basanite</td>\n",
              "      <td>Intraplate / Continental Crust (&gt;25 km)</td>\n",
              "    </tr>\n",
              "    <tr>\n",
              "      <th>3</th>\n",
              "      <td>210040</td>\n",
              "      <td>Calatrava Volcanic Field</td>\n",
              "      <td>Spain</td>\n",
              "      <td>Mediterranean and Western Asia</td>\n",
              "      <td>Pyroclastic cone(s)</td>\n",
              "      <td>Eruption Dated</td>\n",
              "      <td>3600 BCE</td>\n",
              "      <td>38.870</td>\n",
              "      <td>-4.020</td>\n",
              "      <td>1117</td>\n",
              "      <td>Basalt / Picro-Basalt</td>\n",
              "      <td>Intraplate / Continental Crust (&gt;25 km)</td>\n",
              "    </tr>\n",
              "    <tr>\n",
              "      <th>4</th>\n",
              "      <td>211001</td>\n",
              "      <td>Larderello</td>\n",
              "      <td>Italy</td>\n",
              "      <td>Mediterranean and Western Asia</td>\n",
              "      <td>Explosion crater(s)</td>\n",
              "      <td>Eruption Observed</td>\n",
              "      <td>1282 CE</td>\n",
              "      <td>43.250</td>\n",
              "      <td>10.870</td>\n",
              "      <td>500</td>\n",
              "      <td>No Data</td>\n",
              "      <td>Subduction Zone / Continental Crust (&gt;25 km)</td>\n",
              "    </tr>\n",
              "    <tr>\n",
              "      <th>5</th>\n",
              "      <td>211003</td>\n",
              "      <td>Vulsini</td>\n",
              "      <td>Italy</td>\n",
              "      <td>Mediterranean and Western Asia</td>\n",
              "      <td>Caldera</td>\n",
              "      <td>Eruption Observed</td>\n",
              "      <td>104 BCE</td>\n",
              "      <td>42.600</td>\n",
              "      <td>11.930</td>\n",
              "      <td>800</td>\n",
              "      <td>Trachyte / Trachydacite</td>\n",
              "      <td>Subduction Zone / Continental Crust (&gt;25 km)</td>\n",
              "    </tr>\n",
              "    <tr>\n",
              "      <th>6</th>\n",
              "      <td>211004</td>\n",
              "      <td>Colli Alban</td>\n",
              "      <td>Italy</td>\n",
              "      <td>Mediterranean and Western Asia</td>\n",
              "      <td>Caldera</td>\n",
              "      <td>Evidence Uncertain</td>\n",
              "      <td>Unknown</td>\n",
              "      <td>41.730</td>\n",
              "      <td>12.700</td>\n",
              "      <td>949</td>\n",
              "      <td>Foidite</td>\n",
              "      <td>Subduction Zone / Continental Crust (&gt;25 km)</td>\n",
              "    </tr>\n",
              "    <tr>\n",
              "      <th>7</th>\n",
              "      <td>211010</td>\n",
              "      <td>Campi Flegrei</td>\n",
              "      <td>Italy</td>\n",
              "      <td>Mediterranean and Western Asia</td>\n",
              "      <td>Caldera</td>\n",
              "      <td>Eruption Observed</td>\n",
              "      <td>1538 CE</td>\n",
              "      <td>40.827</td>\n",
              "      <td>14.139</td>\n",
              "      <td>458</td>\n",
              "      <td>Trachyte / Trachydacite</td>\n",
              "      <td>Subduction Zone / Continental Crust (&gt;25 km)</td>\n",
              "    </tr>\n",
              "    <tr>\n",
              "      <th>8</th>\n",
              "      <td>211020</td>\n",
              "      <td>Vesuvius</td>\n",
              "      <td>Italy</td>\n",
              "      <td>Mediterranean and Western Asia</td>\n",
              "      <td>Stratovolcano</td>\n",
              "      <td>Eruption Observed</td>\n",
              "      <td>1944 CE</td>\n",
              "      <td>40.821</td>\n",
              "      <td>14.426</td>\n",
              "      <td>1281</td>\n",
              "      <td>Phono-tephrite /  Tephri-phonolite</td>\n",
              "      <td>Subduction Zone / Continental Crust (&gt;25 km)</td>\n",
              "    </tr>\n",
              "    <tr>\n",
              "      <th>9</th>\n",
              "      <td>211030</td>\n",
              "      <td>Ischia</td>\n",
              "      <td>Italy</td>\n",
              "      <td>Mediterranean and Western Asia</td>\n",
              "      <td>Complex</td>\n",
              "      <td>Eruption Observed</td>\n",
              "      <td>1302 CE</td>\n",
              "      <td>40.730</td>\n",
              "      <td>13.897</td>\n",
              "      <td>789</td>\n",
              "      <td>Trachyte / Trachydacite</td>\n",
              "      <td>Subduction Zone / Continental Crust (&gt;25 km)</td>\n",
              "    </tr>\n",
              "  </tbody>\n",
              "</table>\n",
              "</div>"
            ],
            "text/plain": [
              "   Number  ...                              Tectonic Setting\n",
              "0  210010  ...        Rift Zone / Continental Crust (>25 km)\n",
              "1  210020  ...        Rift Zone / Continental Crust (>25 km)\n",
              "2  210030  ...       Intraplate / Continental Crust (>25 km)\n",
              "3  210040  ...       Intraplate / Continental Crust (>25 km)\n",
              "4  211001  ...  Subduction Zone / Continental Crust (>25 km)\n",
              "5  211003  ...  Subduction Zone / Continental Crust (>25 km)\n",
              "6  211004  ...  Subduction Zone / Continental Crust (>25 km)\n",
              "7  211010  ...  Subduction Zone / Continental Crust (>25 km)\n",
              "8  211020  ...  Subduction Zone / Continental Crust (>25 km)\n",
              "9  211030  ...  Subduction Zone / Continental Crust (>25 km)\n",
              "\n",
              "[10 rows x 12 columns]"
            ]
          },
          "metadata": {
            "tags": []
          },
          "execution_count": 126
        }
      ]
    },
    {
      "cell_type": "markdown",
      "metadata": {
        "id": "M0Pp9pvPl0Vx"
      },
      "source": [
        "Podemos seleccionar el arreglo de columas que sean de nuestro interés:"
      ]
    },
    {
      "cell_type": "code",
      "metadata": {
        "id": "RlDI5hBcl0Vx"
      },
      "source": [
        "cols_to_use = ['Number','Latitude','Longitude','Elevation (Meters)']"
      ],
      "execution_count": null,
      "outputs": []
    },
    {
      "cell_type": "code",
      "metadata": {
        "id": "s3vCmAkTl0Vx"
      },
      "source": [
        "data = data[cols_to_use]"
      ],
      "execution_count": null,
      "outputs": []
    },
    {
      "cell_type": "code",
      "metadata": {
        "colab": {
          "base_uri": "https://localhost:8080/",
          "height": 359
        },
        "id": "UPBlMxWgl0Vx",
        "outputId": "4c2b5548-9033-4c79-a037-6acfe9caba82"
      },
      "source": [
        "data.head(10)"
      ],
      "execution_count": null,
      "outputs": [
        {
          "output_type": "execute_result",
          "data": {
            "text/html": [
              "<div>\n",
              "<style scoped>\n",
              "    .dataframe tbody tr th:only-of-type {\n",
              "        vertical-align: middle;\n",
              "    }\n",
              "\n",
              "    .dataframe tbody tr th {\n",
              "        vertical-align: top;\n",
              "    }\n",
              "\n",
              "    .dataframe thead th {\n",
              "        text-align: right;\n",
              "    }\n",
              "</style>\n",
              "<table border=\"1\" class=\"dataframe\">\n",
              "  <thead>\n",
              "    <tr style=\"text-align: right;\">\n",
              "      <th></th>\n",
              "      <th>Number</th>\n",
              "      <th>Latitude</th>\n",
              "      <th>Longitude</th>\n",
              "      <th>Elevation (Meters)</th>\n",
              "    </tr>\n",
              "  </thead>\n",
              "  <tbody>\n",
              "    <tr>\n",
              "      <th>0</th>\n",
              "      <td>210010</td>\n",
              "      <td>50.170</td>\n",
              "      <td>6.850</td>\n",
              "      <td>600</td>\n",
              "    </tr>\n",
              "    <tr>\n",
              "      <th>1</th>\n",
              "      <td>210020</td>\n",
              "      <td>45.775</td>\n",
              "      <td>2.970</td>\n",
              "      <td>1464</td>\n",
              "    </tr>\n",
              "    <tr>\n",
              "      <th>2</th>\n",
              "      <td>210030</td>\n",
              "      <td>42.170</td>\n",
              "      <td>2.530</td>\n",
              "      <td>893</td>\n",
              "    </tr>\n",
              "    <tr>\n",
              "      <th>3</th>\n",
              "      <td>210040</td>\n",
              "      <td>38.870</td>\n",
              "      <td>-4.020</td>\n",
              "      <td>1117</td>\n",
              "    </tr>\n",
              "    <tr>\n",
              "      <th>4</th>\n",
              "      <td>211001</td>\n",
              "      <td>43.250</td>\n",
              "      <td>10.870</td>\n",
              "      <td>500</td>\n",
              "    </tr>\n",
              "    <tr>\n",
              "      <th>5</th>\n",
              "      <td>211003</td>\n",
              "      <td>42.600</td>\n",
              "      <td>11.930</td>\n",
              "      <td>800</td>\n",
              "    </tr>\n",
              "    <tr>\n",
              "      <th>6</th>\n",
              "      <td>211004</td>\n",
              "      <td>41.730</td>\n",
              "      <td>12.700</td>\n",
              "      <td>949</td>\n",
              "    </tr>\n",
              "    <tr>\n",
              "      <th>7</th>\n",
              "      <td>211010</td>\n",
              "      <td>40.827</td>\n",
              "      <td>14.139</td>\n",
              "      <td>458</td>\n",
              "    </tr>\n",
              "    <tr>\n",
              "      <th>8</th>\n",
              "      <td>211020</td>\n",
              "      <td>40.821</td>\n",
              "      <td>14.426</td>\n",
              "      <td>1281</td>\n",
              "    </tr>\n",
              "    <tr>\n",
              "      <th>9</th>\n",
              "      <td>211030</td>\n",
              "      <td>40.730</td>\n",
              "      <td>13.897</td>\n",
              "      <td>789</td>\n",
              "    </tr>\n",
              "  </tbody>\n",
              "</table>\n",
              "</div>"
            ],
            "text/plain": [
              "   Number  Latitude  Longitude  Elevation (Meters)\n",
              "0  210010    50.170      6.850                 600\n",
              "1  210020    45.775      2.970                1464\n",
              "2  210030    42.170      2.530                 893\n",
              "3  210040    38.870     -4.020                1117\n",
              "4  211001    43.250     10.870                 500\n",
              "5  211003    42.600     11.930                 800\n",
              "6  211004    41.730     12.700                 949\n",
              "7  211010    40.827     14.139                 458\n",
              "8  211020    40.821     14.426                1281\n",
              "9  211030    40.730     13.897                 789"
            ]
          },
          "metadata": {
            "tags": []
          },
          "execution_count": 147
        }
      ]
    },
    {
      "cell_type": "markdown",
      "metadata": {
        "id": "lcjbdW11l0Vx"
      },
      "source": [
        "Validamos la existencia de NaN:"
      ]
    },
    {
      "cell_type": "code",
      "metadata": {
        "colab": {
          "base_uri": "https://localhost:8080/"
        },
        "id": "stDYOkeFl0Vx",
        "outputId": "d8edadd9-2965-4dec-e5ff-b7207a555338"
      },
      "source": [
        "data.isnull().values.any()"
      ],
      "execution_count": null,
      "outputs": [
        {
          "output_type": "execute_result",
          "data": {
            "text/plain": [
              "False"
            ]
          },
          "metadata": {
            "tags": []
          },
          "execution_count": 141
        }
      ]
    },
    {
      "cell_type": "markdown",
      "metadata": {
        "id": "fO8SPb8el0Vx"
      },
      "source": [
        "Validamos el tamaño original del dataset:"
      ]
    },
    {
      "cell_type": "code",
      "metadata": {
        "colab": {
          "base_uri": "https://localhost:8080/"
        },
        "id": "5jmv9vzsl0Vx",
        "outputId": "477c02f4-9c36-47db-c6a8-3376a0257fd1"
      },
      "source": [
        "data.shape"
      ],
      "execution_count": null,
      "outputs": [
        {
          "output_type": "execute_result",
          "data": {
            "text/plain": [
              "(1455, 4)"
            ]
          },
          "metadata": {
            "tags": []
          },
          "execution_count": 142
        }
      ]
    },
    {
      "cell_type": "markdown",
      "metadata": {
        "id": "5BiaDVvZl0Vx"
      },
      "source": [
        "Decidimos eliminar cualquier instancia que contenga al menos, un NaN:"
      ]
    },
    {
      "cell_type": "code",
      "metadata": {
        "id": "POUi9Hm1l0Vx"
      },
      "source": [
        "data = data.dropna()"
      ],
      "execution_count": null,
      "outputs": []
    },
    {
      "cell_type": "markdown",
      "metadata": {
        "id": "buiec5Oil0Vx"
      },
      "source": [
        "y verificamos el tamaño final del dataset:"
      ]
    },
    {
      "cell_type": "code",
      "metadata": {
        "colab": {
          "base_uri": "https://localhost:8080/"
        },
        "id": "yGjRY3Gnl0Vx",
        "outputId": "f966266e-3ff0-4f5f-e371-e4149296d781"
      },
      "source": [
        "data.shape"
      ],
      "execution_count": null,
      "outputs": [
        {
          "output_type": "execute_result",
          "data": {
            "text/plain": [
              "(1455, 4)"
            ]
          },
          "metadata": {
            "tags": []
          },
          "execution_count": 144
        }
      ]
    },
    {
      "cell_type": "markdown",
      "metadata": {
        "id": "1dOi-H0gl0Vy"
      },
      "source": [
        "Notamos como 177 instancias fueron eliminadas."
      ]
    },
    {
      "cell_type": "markdown",
      "metadata": {
        "id": "KALVCUzSl0Vy"
      },
      "source": [
        "# ¿Qué sigue? Debemos de verificar si hay alguna variable categórica, de existir debemos de binarizarla:"
      ]
    },
    {
      "cell_type": "code",
      "metadata": {
        "id": "ZHO2yzZnl0Vy",
        "colab": {
          "base_uri": "https://localhost:8080/",
          "height": 306
        },
        "outputId": "8492b088-05f7-4d76-8ae5-1cf1027dd22a"
      },
      "source": [
        "data['Elevation (Meters)'] = data['Elevation (Meters)'].replace({'Latitude' : 0, 'Longitude' : 1})"
      ],
      "execution_count": null,
      "outputs": [
        {
          "output_type": "error",
          "ename": "TypeError",
          "evalue": "ignored",
          "traceback": [
            "\u001b[0;31m---------------------------------------------------------------------------\u001b[0m",
            "\u001b[0;31mTypeError\u001b[0m                                 Traceback (most recent call last)",
            "\u001b[0;32m<ipython-input-160-8838ff7ba965>\u001b[0m in \u001b[0;36m<module>\u001b[0;34m()\u001b[0m\n\u001b[0;32m----> 1\u001b[0;31m \u001b[0mdata\u001b[0m\u001b[0;34m[\u001b[0m\u001b[0;34m'Elevation (Meters)'\u001b[0m\u001b[0;34m]\u001b[0m \u001b[0;34m=\u001b[0m \u001b[0mdata\u001b[0m\u001b[0;34m[\u001b[0m\u001b[0;34m'Elevation (Meters)'\u001b[0m\u001b[0;34m]\u001b[0m\u001b[0;34m.\u001b[0m\u001b[0mreplace\u001b[0m\u001b[0;34m(\u001b[0m\u001b[0;34m{\u001b[0m\u001b[0;34m'Latitude'\u001b[0m \u001b[0;34m:\u001b[0m \u001b[0;36m0\u001b[0m\u001b[0;34m,\u001b[0m \u001b[0;34m'Longitude'\u001b[0m \u001b[0;34m:\u001b[0m \u001b[0;36m1\u001b[0m\u001b[0;34m}\u001b[0m\u001b[0;34m)\u001b[0m\u001b[0;34m\u001b[0m\u001b[0;34m\u001b[0m\u001b[0m\n\u001b[0m",
            "\u001b[0;32m/usr/local/lib/python3.6/dist-packages/pandas/core/series.py\u001b[0m in \u001b[0;36mreplace\u001b[0;34m(self, to_replace, value, inplace, limit, regex, method)\u001b[0m\n\u001b[1;32m   4579\u001b[0m             \u001b[0mlimit\u001b[0m\u001b[0;34m=\u001b[0m\u001b[0mlimit\u001b[0m\u001b[0;34m,\u001b[0m\u001b[0;34m\u001b[0m\u001b[0;34m\u001b[0m\u001b[0m\n\u001b[1;32m   4580\u001b[0m             \u001b[0mregex\u001b[0m\u001b[0;34m=\u001b[0m\u001b[0mregex\u001b[0m\u001b[0;34m,\u001b[0m\u001b[0;34m\u001b[0m\u001b[0;34m\u001b[0m\u001b[0m\n\u001b[0;32m-> 4581\u001b[0;31m             \u001b[0mmethod\u001b[0m\u001b[0;34m=\u001b[0m\u001b[0mmethod\u001b[0m\u001b[0;34m,\u001b[0m\u001b[0;34m\u001b[0m\u001b[0;34m\u001b[0m\u001b[0m\n\u001b[0m\u001b[1;32m   4582\u001b[0m         )\n\u001b[1;32m   4583\u001b[0m \u001b[0;34m\u001b[0m\u001b[0m\n",
            "\u001b[0;32m/usr/local/lib/python3.6/dist-packages/pandas/core/generic.py\u001b[0m in \u001b[0;36mreplace\u001b[0;34m(self, to_replace, value, inplace, limit, regex, method)\u001b[0m\n\u001b[1;32m   6499\u001b[0m \u001b[0;34m\u001b[0m\u001b[0m\n\u001b[1;32m   6500\u001b[0m             return self.replace(\n\u001b[0;32m-> 6501\u001b[0;31m                 \u001b[0mto_replace\u001b[0m\u001b[0;34m,\u001b[0m \u001b[0mvalue\u001b[0m\u001b[0;34m,\u001b[0m \u001b[0minplace\u001b[0m\u001b[0;34m=\u001b[0m\u001b[0minplace\u001b[0m\u001b[0;34m,\u001b[0m \u001b[0mlimit\u001b[0m\u001b[0;34m=\u001b[0m\u001b[0mlimit\u001b[0m\u001b[0;34m,\u001b[0m \u001b[0mregex\u001b[0m\u001b[0;34m=\u001b[0m\u001b[0mregex\u001b[0m\u001b[0;34m\u001b[0m\u001b[0;34m\u001b[0m\u001b[0m\n\u001b[0m\u001b[1;32m   6502\u001b[0m             )\n\u001b[1;32m   6503\u001b[0m         \u001b[0;32melse\u001b[0m\u001b[0;34m:\u001b[0m\u001b[0;34m\u001b[0m\u001b[0;34m\u001b[0m\u001b[0m\n",
            "\u001b[0;32m/usr/local/lib/python3.6/dist-packages/pandas/core/series.py\u001b[0m in \u001b[0;36mreplace\u001b[0;34m(self, to_replace, value, inplace, limit, regex, method)\u001b[0m\n\u001b[1;32m   4579\u001b[0m             \u001b[0mlimit\u001b[0m\u001b[0;34m=\u001b[0m\u001b[0mlimit\u001b[0m\u001b[0;34m,\u001b[0m\u001b[0;34m\u001b[0m\u001b[0;34m\u001b[0m\u001b[0m\n\u001b[1;32m   4580\u001b[0m             \u001b[0mregex\u001b[0m\u001b[0;34m=\u001b[0m\u001b[0mregex\u001b[0m\u001b[0;34m,\u001b[0m\u001b[0;34m\u001b[0m\u001b[0;34m\u001b[0m\u001b[0m\n\u001b[0;32m-> 4581\u001b[0;31m             \u001b[0mmethod\u001b[0m\u001b[0;34m=\u001b[0m\u001b[0mmethod\u001b[0m\u001b[0;34m,\u001b[0m\u001b[0;34m\u001b[0m\u001b[0;34m\u001b[0m\u001b[0m\n\u001b[0m\u001b[1;32m   4582\u001b[0m         )\n\u001b[1;32m   4583\u001b[0m \u001b[0;34m\u001b[0m\u001b[0m\n",
            "\u001b[0;32m/usr/local/lib/python3.6/dist-packages/pandas/core/generic.py\u001b[0m in \u001b[0;36mreplace\u001b[0;34m(self, to_replace, value, inplace, limit, regex, method)\u001b[0m\n\u001b[1;32m   6545\u001b[0m                         \u001b[0mdest_list\u001b[0m\u001b[0;34m=\u001b[0m\u001b[0mvalue\u001b[0m\u001b[0;34m,\u001b[0m\u001b[0;34m\u001b[0m\u001b[0;34m\u001b[0m\u001b[0m\n\u001b[1;32m   6546\u001b[0m                         \u001b[0minplace\u001b[0m\u001b[0;34m=\u001b[0m\u001b[0minplace\u001b[0m\u001b[0;34m,\u001b[0m\u001b[0;34m\u001b[0m\u001b[0;34m\u001b[0m\u001b[0m\n\u001b[0;32m-> 6547\u001b[0;31m                         \u001b[0mregex\u001b[0m\u001b[0;34m=\u001b[0m\u001b[0mregex\u001b[0m\u001b[0;34m,\u001b[0m\u001b[0;34m\u001b[0m\u001b[0;34m\u001b[0m\u001b[0m\n\u001b[0m\u001b[1;32m   6548\u001b[0m                     )\n\u001b[1;32m   6549\u001b[0m \u001b[0;34m\u001b[0m\u001b[0m\n",
            "\u001b[0;32m/usr/local/lib/python3.6/dist-packages/pandas/core/internals/managers.py\u001b[0m in \u001b[0;36mreplace_list\u001b[0;34m(self, src_list, dest_list, inplace, regex)\u001b[0m\n\u001b[1;32m    640\u001b[0m         \u001b[0mmask\u001b[0m \u001b[0;34m=\u001b[0m \u001b[0;34m~\u001b[0m\u001b[0misna\u001b[0m\u001b[0;34m(\u001b[0m\u001b[0mvalues\u001b[0m\u001b[0;34m)\u001b[0m\u001b[0;34m\u001b[0m\u001b[0;34m\u001b[0m\u001b[0m\n\u001b[1;32m    641\u001b[0m \u001b[0;34m\u001b[0m\u001b[0m\n\u001b[0;32m--> 642\u001b[0;31m         \u001b[0mmasks\u001b[0m \u001b[0;34m=\u001b[0m \u001b[0;34m[\u001b[0m\u001b[0mcomp\u001b[0m\u001b[0;34m(\u001b[0m\u001b[0ms\u001b[0m\u001b[0;34m,\u001b[0m \u001b[0mmask\u001b[0m\u001b[0;34m,\u001b[0m \u001b[0mregex\u001b[0m\u001b[0;34m)\u001b[0m \u001b[0;32mfor\u001b[0m \u001b[0ms\u001b[0m \u001b[0;32min\u001b[0m \u001b[0msrc_list\u001b[0m\u001b[0;34m]\u001b[0m\u001b[0;34m\u001b[0m\u001b[0;34m\u001b[0m\u001b[0m\n\u001b[0m\u001b[1;32m    643\u001b[0m \u001b[0;34m\u001b[0m\u001b[0m\n\u001b[1;32m    644\u001b[0m         \u001b[0mresult_blocks\u001b[0m \u001b[0;34m=\u001b[0m \u001b[0;34m[\u001b[0m\u001b[0;34m]\u001b[0m\u001b[0;34m\u001b[0m\u001b[0;34m\u001b[0m\u001b[0m\n",
            "\u001b[0;32m/usr/local/lib/python3.6/dist-packages/pandas/core/internals/managers.py\u001b[0m in \u001b[0;36m<listcomp>\u001b[0;34m(.0)\u001b[0m\n\u001b[1;32m    640\u001b[0m         \u001b[0mmask\u001b[0m \u001b[0;34m=\u001b[0m \u001b[0;34m~\u001b[0m\u001b[0misna\u001b[0m\u001b[0;34m(\u001b[0m\u001b[0mvalues\u001b[0m\u001b[0;34m)\u001b[0m\u001b[0;34m\u001b[0m\u001b[0;34m\u001b[0m\u001b[0m\n\u001b[1;32m    641\u001b[0m \u001b[0;34m\u001b[0m\u001b[0m\n\u001b[0;32m--> 642\u001b[0;31m         \u001b[0mmasks\u001b[0m \u001b[0;34m=\u001b[0m \u001b[0;34m[\u001b[0m\u001b[0mcomp\u001b[0m\u001b[0;34m(\u001b[0m\u001b[0ms\u001b[0m\u001b[0;34m,\u001b[0m \u001b[0mmask\u001b[0m\u001b[0;34m,\u001b[0m \u001b[0mregex\u001b[0m\u001b[0;34m)\u001b[0m \u001b[0;32mfor\u001b[0m \u001b[0ms\u001b[0m \u001b[0;32min\u001b[0m \u001b[0msrc_list\u001b[0m\u001b[0;34m]\u001b[0m\u001b[0;34m\u001b[0m\u001b[0;34m\u001b[0m\u001b[0m\n\u001b[0m\u001b[1;32m    643\u001b[0m \u001b[0;34m\u001b[0m\u001b[0m\n\u001b[1;32m    644\u001b[0m         \u001b[0mresult_blocks\u001b[0m \u001b[0;34m=\u001b[0m \u001b[0;34m[\u001b[0m\u001b[0;34m]\u001b[0m\u001b[0;34m\u001b[0m\u001b[0;34m\u001b[0m\u001b[0m\n",
            "\u001b[0;32m/usr/local/lib/python3.6/dist-packages/pandas/core/internals/managers.py\u001b[0m in \u001b[0;36mcomp\u001b[0;34m(s, mask, regex)\u001b[0m\n\u001b[1;32m    634\u001b[0m \u001b[0;34m\u001b[0m\u001b[0m\n\u001b[1;32m    635\u001b[0m             \u001b[0ms\u001b[0m \u001b[0;34m=\u001b[0m \u001b[0mcom\u001b[0m\u001b[0;34m.\u001b[0m\u001b[0mmaybe_box_datetimelike\u001b[0m\u001b[0;34m(\u001b[0m\u001b[0ms\u001b[0m\u001b[0;34m)\u001b[0m\u001b[0;34m\u001b[0m\u001b[0;34m\u001b[0m\u001b[0m\n\u001b[0;32m--> 636\u001b[0;31m             \u001b[0;32mreturn\u001b[0m \u001b[0m_compare_or_regex_search\u001b[0m\u001b[0;34m(\u001b[0m\u001b[0mvalues\u001b[0m\u001b[0;34m,\u001b[0m \u001b[0ms\u001b[0m\u001b[0;34m,\u001b[0m \u001b[0mregex\u001b[0m\u001b[0;34m,\u001b[0m \u001b[0mmask\u001b[0m\u001b[0;34m)\u001b[0m\u001b[0;34m\u001b[0m\u001b[0;34m\u001b[0m\u001b[0m\n\u001b[0m\u001b[1;32m    637\u001b[0m \u001b[0;34m\u001b[0m\u001b[0m\n\u001b[1;32m    638\u001b[0m         \u001b[0;31m# Calculate the mask once, prior to the call of comp\u001b[0m\u001b[0;34m\u001b[0m\u001b[0;34m\u001b[0m\u001b[0;34m\u001b[0m\u001b[0m\n",
            "\u001b[0;32m/usr/local/lib/python3.6/dist-packages/pandas/core/internals/managers.py\u001b[0m in \u001b[0;36m_compare_or_regex_search\u001b[0;34m(a, b, regex, mask)\u001b[0m\n\u001b[1;32m   1990\u001b[0m     \u001b[0;32mif\u001b[0m \u001b[0mis_datetimelike_v_numeric\u001b[0m\u001b[0;34m(\u001b[0m\u001b[0ma\u001b[0m\u001b[0;34m,\u001b[0m \u001b[0mb\u001b[0m\u001b[0;34m)\u001b[0m \u001b[0;32mor\u001b[0m \u001b[0mis_numeric_v_string_like\u001b[0m\u001b[0;34m(\u001b[0m\u001b[0ma\u001b[0m\u001b[0;34m,\u001b[0m \u001b[0mb\u001b[0m\u001b[0;34m)\u001b[0m\u001b[0;34m:\u001b[0m\u001b[0;34m\u001b[0m\u001b[0;34m\u001b[0m\u001b[0m\n\u001b[1;32m   1991\u001b[0m         \u001b[0;31m# GH#29553 avoid deprecation warnings from numpy\u001b[0m\u001b[0;34m\u001b[0m\u001b[0;34m\u001b[0m\u001b[0;34m\u001b[0m\u001b[0m\n\u001b[0;32m-> 1992\u001b[0;31m         \u001b[0m_check_comparison_types\u001b[0m\u001b[0;34m(\u001b[0m\u001b[0;32mFalse\u001b[0m\u001b[0;34m,\u001b[0m \u001b[0ma\u001b[0m\u001b[0;34m,\u001b[0m \u001b[0mb\u001b[0m\u001b[0;34m)\u001b[0m\u001b[0;34m\u001b[0m\u001b[0;34m\u001b[0m\u001b[0m\n\u001b[0m\u001b[1;32m   1993\u001b[0m         \u001b[0;32mreturn\u001b[0m \u001b[0;32mFalse\u001b[0m\u001b[0;34m\u001b[0m\u001b[0;34m\u001b[0m\u001b[0m\n\u001b[1;32m   1994\u001b[0m \u001b[0;34m\u001b[0m\u001b[0m\n",
            "\u001b[0;32m/usr/local/lib/python3.6/dist-packages/pandas/core/internals/managers.py\u001b[0m in \u001b[0;36m_check_comparison_types\u001b[0;34m(result, a, b)\u001b[0m\n\u001b[1;32m   1970\u001b[0m \u001b[0;34m\u001b[0m\u001b[0m\n\u001b[1;32m   1971\u001b[0m             raise TypeError(\n\u001b[0;32m-> 1972\u001b[0;31m                 \u001b[0;34mf\"Cannot compare types {repr(type_names[0])} and {repr(type_names[1])}\"\u001b[0m\u001b[0;34m\u001b[0m\u001b[0;34m\u001b[0m\u001b[0m\n\u001b[0m\u001b[1;32m   1973\u001b[0m             )\n\u001b[1;32m   1974\u001b[0m \u001b[0;34m\u001b[0m\u001b[0m\n",
            "\u001b[0;31mTypeError\u001b[0m: Cannot compare types 'ndarray(dtype=int64)' and 'str'"
          ]
        }
      ]
    },
    {
      "cell_type": "code",
      "metadata": {
        "colab": {
          "base_uri": "https://localhost:8080/",
          "height": 359
        },
        "id": "nR9_0mF_l0Vy",
        "outputId": "2559d401-b851-4b26-a5d8-7ea2d9d2b7ef"
      },
      "source": [
        "data.head(10)"
      ],
      "execution_count": null,
      "outputs": [
        {
          "output_type": "execute_result",
          "data": {
            "text/html": [
              "<div>\n",
              "<style scoped>\n",
              "    .dataframe tbody tr th:only-of-type {\n",
              "        vertical-align: middle;\n",
              "    }\n",
              "\n",
              "    .dataframe tbody tr th {\n",
              "        vertical-align: top;\n",
              "    }\n",
              "\n",
              "    .dataframe thead th {\n",
              "        text-align: right;\n",
              "    }\n",
              "</style>\n",
              "<table border=\"1\" class=\"dataframe\">\n",
              "  <thead>\n",
              "    <tr style=\"text-align: right;\">\n",
              "      <th></th>\n",
              "      <th>Number</th>\n",
              "      <th>Latitude</th>\n",
              "      <th>Longitude</th>\n",
              "      <th>Elevation (Meters)</th>\n",
              "    </tr>\n",
              "  </thead>\n",
              "  <tbody>\n",
              "    <tr>\n",
              "      <th>0</th>\n",
              "      <td>210010</td>\n",
              "      <td>50.170</td>\n",
              "      <td>6.850</td>\n",
              "      <td>600</td>\n",
              "    </tr>\n",
              "    <tr>\n",
              "      <th>1</th>\n",
              "      <td>210020</td>\n",
              "      <td>45.775</td>\n",
              "      <td>2.970</td>\n",
              "      <td>1464</td>\n",
              "    </tr>\n",
              "    <tr>\n",
              "      <th>2</th>\n",
              "      <td>210030</td>\n",
              "      <td>42.170</td>\n",
              "      <td>2.530</td>\n",
              "      <td>893</td>\n",
              "    </tr>\n",
              "    <tr>\n",
              "      <th>3</th>\n",
              "      <td>210040</td>\n",
              "      <td>38.870</td>\n",
              "      <td>-4.020</td>\n",
              "      <td>1117</td>\n",
              "    </tr>\n",
              "    <tr>\n",
              "      <th>4</th>\n",
              "      <td>211001</td>\n",
              "      <td>43.250</td>\n",
              "      <td>10.870</td>\n",
              "      <td>500</td>\n",
              "    </tr>\n",
              "    <tr>\n",
              "      <th>5</th>\n",
              "      <td>211003</td>\n",
              "      <td>42.600</td>\n",
              "      <td>11.930</td>\n",
              "      <td>800</td>\n",
              "    </tr>\n",
              "    <tr>\n",
              "      <th>6</th>\n",
              "      <td>211004</td>\n",
              "      <td>41.730</td>\n",
              "      <td>12.700</td>\n",
              "      <td>949</td>\n",
              "    </tr>\n",
              "    <tr>\n",
              "      <th>7</th>\n",
              "      <td>211010</td>\n",
              "      <td>40.827</td>\n",
              "      <td>14.139</td>\n",
              "      <td>458</td>\n",
              "    </tr>\n",
              "    <tr>\n",
              "      <th>8</th>\n",
              "      <td>211020</td>\n",
              "      <td>40.821</td>\n",
              "      <td>14.426</td>\n",
              "      <td>1281</td>\n",
              "    </tr>\n",
              "    <tr>\n",
              "      <th>9</th>\n",
              "      <td>211030</td>\n",
              "      <td>40.730</td>\n",
              "      <td>13.897</td>\n",
              "      <td>789</td>\n",
              "    </tr>\n",
              "  </tbody>\n",
              "</table>\n",
              "</div>"
            ],
            "text/plain": [
              "   Number  Latitude  Longitude  Elevation (Meters)\n",
              "0  210010    50.170      6.850                 600\n",
              "1  210020    45.775      2.970                1464\n",
              "2  210030    42.170      2.530                 893\n",
              "3  210040    38.870     -4.020                1117\n",
              "4  211001    43.250     10.870                 500\n",
              "5  211003    42.600     11.930                 800\n",
              "6  211004    41.730     12.700                 949\n",
              "7  211010    40.827     14.139                 458\n",
              "8  211020    40.821     14.426                1281\n",
              "9  211030    40.730     13.897                 789"
            ]
          },
          "metadata": {
            "tags": []
          },
          "execution_count": 159
        }
      ]
    },
    {
      "cell_type": "markdown",
      "metadata": {
        "id": "SQQH33KQl0Vy"
      },
      "source": [
        "Finalmente como etapa previa a los algoritmos de aprendizaje, partimos nuestro dataset en *training* y *testing*:"
      ]
    },
    {
      "cell_type": "code",
      "metadata": {
        "id": "czlgU2TBl0Vy"
      },
      "source": [
        "from sklearn.model_selection import train_test_split"
      ],
      "execution_count": null,
      "outputs": []
    },
    {
      "cell_type": "markdown",
      "metadata": {
        "id": "d8B9cmy7l0Vy"
      },
      "source": [
        "Creamos nuestro conjunto de features (X) y labels (y):"
      ]
    },
    {
      "cell_type": "code",
      "metadata": {
        "id": "csoCDAKyl0Vy"
      },
      "source": [
        "features = data[['Number','Latitude','Longitude','Elevation (Meters)']]\n",
        "labels = data['Elevation (Meters)']"
      ],
      "execution_count": null,
      "outputs": []
    },
    {
      "cell_type": "code",
      "metadata": {
        "id": "lUdu3B0Pl0Vy"
      },
      "source": [
        "X_train,X_test, y_train, y_test = train_test_split(features, labels, random_state = 13)"
      ],
      "execution_count": null,
      "outputs": []
    },
    {
      "cell_type": "code",
      "metadata": {
        "colab": {
          "base_uri": "https://localhost:8080/"
        },
        "id": "ocsX8s1Fl0Vy",
        "outputId": "97644923-39b8-4730-e298-1e74c09d4125"
      },
      "source": [
        "data.shape"
      ],
      "execution_count": null,
      "outputs": [
        {
          "output_type": "execute_result",
          "data": {
            "text/plain": [
              "(1455, 4)"
            ]
          },
          "metadata": {
            "tags": []
          },
          "execution_count": 153
        }
      ]
    },
    {
      "cell_type": "code",
      "metadata": {
        "colab": {
          "base_uri": "https://localhost:8080/"
        },
        "id": "9-2jpHaBl0Vy",
        "outputId": "5bceba4c-68bc-45ed-8d01-a5e1d7a9b762"
      },
      "source": [
        "X_train.shape"
      ],
      "execution_count": null,
      "outputs": [
        {
          "output_type": "execute_result",
          "data": {
            "text/plain": [
              "(1091, 4)"
            ]
          },
          "metadata": {
            "tags": []
          },
          "execution_count": 154
        }
      ]
    },
    {
      "cell_type": "code",
      "metadata": {
        "colab": {
          "base_uri": "https://localhost:8080/"
        },
        "id": "XVNpBPNal0Vy",
        "outputId": "4686439e-b001-491f-98da-78d26bb3901e"
      },
      "source": [
        "y_test.shape"
      ],
      "execution_count": null,
      "outputs": [
        {
          "output_type": "execute_result",
          "data": {
            "text/plain": [
              "(364,)"
            ]
          },
          "metadata": {
            "tags": []
          },
          "execution_count": 155
        }
      ]
    },
    {
      "cell_type": "markdown",
      "metadata": {
        "id": "RrAjL_GAl0Vy"
      },
      "source": [
        "Nótese como por defecto el tamaño de *training* es del 75% (535/714) y *testing* del 25% (179/714), si deseamos una partición distinta, por ejemplo 80% *training* y 20% *testing*, lo hacemos de la siguiente manera:"
      ]
    },
    {
      "cell_type": "code",
      "metadata": {
        "id": "UosbO5-bl0Vy"
      },
      "source": [
        "X_train,X_test, y_train, y_test = train_test_split(features, labels, test_size=0.20, random_state = 13) "
      ],
      "execution_count": null,
      "outputs": []
    },
    {
      "cell_type": "code",
      "metadata": {
        "colab": {
          "base_uri": "https://localhost:8080/"
        },
        "id": "03j6LT-Vl0Vy",
        "outputId": "09aa612b-6aa2-4ce3-a493-e074b92b91fe"
      },
      "source": [
        "X_train.shape"
      ],
      "execution_count": null,
      "outputs": [
        {
          "output_type": "execute_result",
          "data": {
            "text/plain": [
              "(1164, 4)"
            ]
          },
          "metadata": {
            "tags": []
          },
          "execution_count": 157
        }
      ]
    },
    {
      "cell_type": "markdown",
      "metadata": {
        "id": "DGQ72hp4l0Vy"
      },
      "source": [
        "Efectivamente ahora 571 corresponde al 80% de 714."
      ]
    },
    {
      "cell_type": "markdown",
      "metadata": {
        "id": "lSk8NQOVl0Vy"
      },
      "source": [
        "### Truco: (en PANDAS 0.25)"
      ]
    },
    {
      "cell_type": "code",
      "metadata": {
        "id": "3oinstu8l0Vy"
      },
      "source": [
        "import pandas as pd\n",
        "import matplotlib.pyplot as plt"
      ],
      "execution_count": null,
      "outputs": []
    },
    {
      "cell_type": "code",
      "metadata": {
        "id": "zLcT_7qEl0Vy"
      },
      "source": [
        "dataset = pd.read_csv('https://raw.githubusercontent.com/fmezacr/DataScienceTEC/master/Clase2/pima-indians-diabetes.csv')"
      ],
      "execution_count": null,
      "outputs": []
    },
    {
      "cell_type": "code",
      "metadata": {
        "id": "RcnwCErhl0Vy"
      },
      "source": [
        "dataset.columns = ['Preg','Gluc','BP','SkinT','Insulin','BMI','DPF','Age','Outcome']"
      ],
      "execution_count": null,
      "outputs": []
    },
    {
      "cell_type": "code",
      "metadata": {
        "colab": {
          "base_uri": "https://localhost:8080/",
          "height": 282
        },
        "id": "jzZ0hXgpl0Vy",
        "outputId": "6fbb43eb-d163-4e29-c961-c9949481b011"
      },
      "source": [
        "dataset.plot()"
      ],
      "execution_count": null,
      "outputs": [
        {
          "output_type": "execute_result",
          "data": {
            "text/plain": [
              "<matplotlib.axes._subplots.AxesSubplot at 0x7fa8d53e7fd0>"
            ]
          },
          "metadata": {
            "tags": []
          },
          "execution_count": 82
        },
        {
          "output_type": "display_data",
          "data": {
            "image/png": "[encoded data removed]",
            "text/plain": [
              "<Figure size 432x288 with 1 Axes>"
            ]
          },
          "metadata": {
            "tags": [],
            "needs_background": "light"
          }
        }
      ]
    },
    {
      "cell_type": "code",
      "metadata": {
        "colab": {
          "base_uri": "https://localhost:8080/",
          "height": 282
        },
        "id": "-4XW77wQl0Vy",
        "outputId": "6e5cf07e-d4f8-46d3-fffe-e913608ac017"
      },
      "source": [
        "dataset.plot()\n",
        "plt.xlim(10,20)"
      ],
      "execution_count": null,
      "outputs": [
        {
          "output_type": "execute_result",
          "data": {
            "text/plain": [
              "(10.0, 20.0)"
            ]
          },
          "metadata": {
            "tags": []
          },
          "execution_count": 57
        },
        {
          "output_type": "display_data",
          "data": {
            "image/png": "[encoded data removed]",
            "text/plain": [
              "<Figure size 432x288 with 1 Axes>"
            ]
          },
          "metadata": {
            "tags": [],
            "needs_background": "light"
          }
        }
      ]
    },
    {
      "cell_type": "code",
      "metadata": {
        "colab": {
          "base_uri": "https://localhost:8080/",
          "height": 282
        },
        "id": "igFPJ2-zl0Vz",
        "outputId": "f5fb97a4-2dfb-4583-c7c1-9ce04b2dc247"
      },
      "source": [
        "dataset['Preg'].plot()\n",
        "plt.xlim(10,30)"
      ],
      "execution_count": null,
      "outputs": [
        {
          "output_type": "execute_result",
          "data": {
            "text/plain": [
              "(10.0, 30.0)"
            ]
          },
          "metadata": {
            "tags": []
          },
          "execution_count": 58
        },
        {
          "output_type": "display_data",
          "data": {
            "image/png": "[encoded data removed]",
            "text/plain": [
              "<Figure size 432x288 with 1 Axes>"
            ]
          },
          "metadata": {
            "tags": [],
            "needs_background": "light"
          }
        }
      ]
    },
    {
      "cell_type": "code",
      "metadata": {
        "colab": {
          "base_uri": "https://localhost:8080/",
          "height": 285
        },
        "id": "YC-HIQNYl0Vz",
        "outputId": "c36e3499-ce67-4eec-aa6e-e0832aa165ac"
      },
      "source": [
        "dataset['Preg'].plot.bar()\n",
        "plt.xlim(10,30)"
      ],
      "execution_count": null,
      "outputs": [
        {
          "output_type": "execute_result",
          "data": {
            "text/plain": [
              "(10.0, 30.0)"
            ]
          },
          "metadata": {
            "tags": []
          },
          "execution_count": 59
        },
        {
          "output_type": "display_data",
          "data": {
            "image/png": "[encoded data removed]",
            "text/plain": [
              "<Figure size 432x288 with 1 Axes>"
            ]
          },
          "metadata": {
            "tags": [],
            "needs_background": "light"
          }
        }
      ]
    },
    {
      "cell_type": "code",
      "metadata": {
        "id": "1pPfP0rJl0Vz"
      },
      "source": [
        "\n"
      ],
      "execution_count": null,
      "outputs": []
    },
    {
      "cell_type": "markdown",
      "metadata": {
        "id": "re7GzPrEN9g3"
      },
      "source": [
        "## **`CORRELACION DE DATOS GRAFICA`** \n",
        "\n",
        "\n",
        "---\n",
        "\n"
      ]
    },
    {
      "cell_type": "code",
      "metadata": {
        "colab": {
          "base_uri": "https://localhost:8080/",
          "height": 129
        },
        "id": "Ka9gwZh6ObyU",
        "outputId": "2f0a1678-fd32-4c6e-abd1-185b4cd000a7"
      },
      "source": [
        "1 import seaborn as sns"
      ],
      "execution_count": null,
      "outputs": [
        {
          "output_type": "error",
          "ename": "SyntaxError",
          "evalue": "ignored",
          "traceback": [
            "\u001b[0;36m  File \u001b[0;32m\"<ipython-input-161-3d46b2ef651d>\"\u001b[0;36m, line \u001b[0;32m1\u001b[0m\n\u001b[0;31m    1 import seaborn as sns\u001b[0m\n\u001b[0m           ^\u001b[0m\n\u001b[0;31mSyntaxError\u001b[0m\u001b[0;31m:\u001b[0m invalid syntax\n"
          ]
        }
      ]
    },
    {
      "cell_type": "code",
      "metadata": {
        "colab": {
          "base_uri": "https://localhost:8080/",
          "height": 129
        },
        "id": "rl_x8xMPO9D3",
        "outputId": "d6466d64-a2d8-4c29-a64e-687c7979f67e"
      },
      "source": [
        "1 data.corr()"
      ],
      "execution_count": null,
      "outputs": [
        {
          "output_type": "error",
          "ename": "SyntaxError",
          "evalue": "ignored",
          "traceback": [
            "\u001b[0;36m  File \u001b[0;32m\"<ipython-input-112-2faf82dbcfd8>\"\u001b[0;36m, line \u001b[0;32m1\u001b[0m\n\u001b[0;31m    1 data.corr()\u001b[0m\n\u001b[0m         ^\u001b[0m\n\u001b[0;31mSyntaxError\u001b[0m\u001b[0;31m:\u001b[0m invalid syntax\n"
          ]
        }
      ]
    },
    {
      "cell_type": "code",
      "metadata": {
        "colab": {
          "base_uri": "https://localhost:8080/",
          "height": 197
        },
        "id": "old4yM6VPX-m",
        "outputId": "2fca69d7-7a2a-4719-a48f-02802f4f314c"
      },
      "source": [
        "plt.figure(figsize=(20, 10))\n",
        "sns.heatmap(data.corr(), annot=True)\n"
      ],
      "execution_count": null,
      "outputs": [
        {
          "output_type": "error",
          "ename": "NameError",
          "evalue": "ignored",
          "traceback": [
            "\u001b[0;31m---------------------------------------------------------------------------\u001b[0m",
            "\u001b[0;31mNameError\u001b[0m                                 Traceback (most recent call last)",
            "\u001b[0;32m<ipython-input-113-8ade80f51235>\u001b[0m in \u001b[0;36m<module>\u001b[0;34m()\u001b[0m\n\u001b[1;32m      1\u001b[0m \u001b[0mplt\u001b[0m\u001b[0;34m.\u001b[0m\u001b[0mfigure\u001b[0m\u001b[0;34m(\u001b[0m\u001b[0mfigsize\u001b[0m\u001b[0;34m=\u001b[0m\u001b[0;34m(\u001b[0m\u001b[0;36m20\u001b[0m\u001b[0;34m,\u001b[0m \u001b[0;36m10\u001b[0m\u001b[0;34m)\u001b[0m\u001b[0;34m)\u001b[0m\u001b[0;34m\u001b[0m\u001b[0;34m\u001b[0m\u001b[0m\n\u001b[0;32m----> 2\u001b[0;31m \u001b[0msns\u001b[0m\u001b[0;34m.\u001b[0m\u001b[0mheatmap\u001b[0m\u001b[0;34m(\u001b[0m\u001b[0mdata\u001b[0m\u001b[0;34m.\u001b[0m\u001b[0mcorr\u001b[0m\u001b[0;34m(\u001b[0m\u001b[0;34m)\u001b[0m\u001b[0;34m,\u001b[0m \u001b[0mannot\u001b[0m\u001b[0;34m=\u001b[0m\u001b[0;32mTrue\u001b[0m\u001b[0;34m)\u001b[0m\u001b[0;34m\u001b[0m\u001b[0;34m\u001b[0m\u001b[0m\n\u001b[0m",
            "\u001b[0;31mNameError\u001b[0m: name 'sns' is not defined"
          ]
        },
        {
          "output_type": "display_data",
          "data": {
            "text/plain": [
              "<Figure size 1440x720 with 0 Axes>"
            ]
          },
          "metadata": {
            "tags": []
          }
        }
      ]
    }
  ]
}